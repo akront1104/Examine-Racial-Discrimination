{
 "cells": [
  {
   "cell_type": "markdown",
   "metadata": {},
   "source": [
    "# Examining Racial Discrimination in the US Job Market\n",
    "\n",
    "### Background\n",
    "Racial discrimination continues to be pervasive in cultures throughout the world. Researchers examined the level of racial discrimination in the United States labor market by randomly assigning identical résumés to black-sounding or white-sounding names and observing the impact on requests for interviews from employers.\n",
    "\n",
    "### Data\n",
    "In the dataset provided, each row represents a resume. The 'race' column has two values, 'b' and 'w', indicating black-sounding and white-sounding. The column 'call' has two values, 1 and 0, indicating whether the resume received a call from employers or not.\n",
    "\n",
    "Note that the 'b' and 'w' values in race are assigned randomly to the resumes when presented to the employer."
   ]
  },
  {
   "cell_type": "markdown",
   "metadata": {},
   "source": [
    "### Exercises\n",
    "You will perform a statistical analysis to establish whether race has a significant impact on the rate of callbacks for resumes.\n",
    "\n",
    "Answer the following questions **in this notebook below and submit to your Github account**. \n",
    "\n",
    "   1. What test is appropriate for this problem? Does CLT apply?\n",
    "   2. What are the null and alternate hypotheses?\n",
    "   3. Compute margin of error, confidence interval, and p-value.\n",
    "   4. Write a story describing the statistical significance in the context or the original problem.\n",
    "   5. Does your analysis mean that race/name is the most important factor in callback success? Why or why not? If not, how would you amend your analysis?\n",
    "\n",
    "You can include written notes in notebook cells using Markdown: \n",
    "   - In the control panel at the top, choose Cell > Cell Type > Markdown\n",
    "   - Markdown syntax: http://nestacms.com/docs/creating-content/markdown-cheat-sheet\n",
    "\n",
    "\n",
    "#### Resources\n",
    "+ Experiment information and data source: http://www.povertyactionlab.org/evaluation/discrimination-job-market-united-states\n",
    "+ Scipy statistical methods: http://docs.scipy.org/doc/scipy/reference/stats.html \n",
    "+ Markdown syntax: http://nestacms.com/docs/creating-content/markdown-cheat-sheet\n",
    "****"
   ]
  },
  {
   "cell_type": "code",
   "execution_count": 1,
   "metadata": {
    "collapsed": true
   },
   "outputs": [],
   "source": [
    "import pandas as pd\n",
    "import numpy as np\n",
    "from scipy import stats"
   ]
  },
  {
   "cell_type": "code",
   "execution_count": 2,
   "metadata": {
    "collapsed": true
   },
   "outputs": [],
   "source": [
    "data = pd.io.stata.read_stata('data/us_job_market_discrimination.dta')"
   ]
  },
  {
   "cell_type": "code",
   "execution_count": 3,
   "metadata": {},
   "outputs": [
    {
     "data": {
      "text/plain": [
       "157.0"
      ]
     },
     "execution_count": 3,
     "metadata": {},
     "output_type": "execute_result"
    }
   ],
   "source": [
    "# number of callbacks for black-sounding names\n",
    "sum(data[data.race=='b'].call)"
   ]
  },
  {
   "cell_type": "code",
   "execution_count": 4,
   "metadata": {},
   "outputs": [
    {
     "data": {
      "text/plain": [
       "235.0"
      ]
     },
     "execution_count": 4,
     "metadata": {},
     "output_type": "execute_result"
    }
   ],
   "source": [
    "# number of callbacks for white-sounding names\n",
    "sum(data[data.race=='w'].call)"
   ]
  },
  {
   "cell_type": "code",
   "execution_count": 5,
   "metadata": {
    "collapsed": true
   },
   "outputs": [
    {
     "name": "stdout",
     "output_type": "stream",
     "text": [
      "<class 'pandas.core.frame.DataFrame'>\n",
      "Int64Index: 4870 entries, 0 to 4869\n",
      "Data columns (total 65 columns):\n",
      "id                    4870 non-null object\n",
      "ad                    4870 non-null object\n",
      "education             4870 non-null int8\n",
      "ofjobs                4870 non-null int8\n",
      "yearsexp              4870 non-null int8\n",
      "honors                4870 non-null int8\n",
      "volunteer             4870 non-null int8\n",
      "military              4870 non-null int8\n",
      "empholes              4870 non-null int8\n",
      "occupspecific         4870 non-null int16\n",
      "occupbroad            4870 non-null int8\n",
      "workinschool          4870 non-null int8\n",
      "email                 4870 non-null int8\n",
      "computerskills        4870 non-null int8\n",
      "specialskills         4870 non-null int8\n",
      "firstname             4870 non-null object\n",
      "sex                   4870 non-null object\n",
      "race                  4870 non-null object\n",
      "h                     4870 non-null float32\n",
      "l                     4870 non-null float32\n",
      "call                  4870 non-null float32\n",
      "city                  4870 non-null object\n",
      "kind                  4870 non-null object\n",
      "adid                  4870 non-null float32\n",
      "fracblack             4784 non-null float32\n",
      "fracwhite             4784 non-null float32\n",
      "lmedhhinc             4784 non-null float32\n",
      "fracdropout           4784 non-null float32\n",
      "fraccolp              4784 non-null float32\n",
      "linc                  4784 non-null float32\n",
      "col                   4870 non-null float32\n",
      "expminreq             4870 non-null object\n",
      "schoolreq             4870 non-null object\n",
      "eoe                   4870 non-null float32\n",
      "parent_sales          1672 non-null float32\n",
      "parent_emp            1722 non-null float32\n",
      "branch_sales          608 non-null float32\n",
      "branch_emp            658 non-null float32\n",
      "fed                   3102 non-null float32\n",
      "fracblack_empzip      1918 non-null float32\n",
      "fracwhite_empzip      1918 non-null float32\n",
      "lmedhhinc_empzip      1908 non-null float32\n",
      "fracdropout_empzip    1918 non-null float32\n",
      "fraccolp_empzip       1918 non-null float32\n",
      "linc_empzip           1918 non-null float32\n",
      "manager               4870 non-null float32\n",
      "supervisor            4870 non-null float32\n",
      "secretary             4870 non-null float32\n",
      "offsupport            4870 non-null float32\n",
      "salesrep              4870 non-null float32\n",
      "retailsales           4870 non-null float32\n",
      "req                   4870 non-null float32\n",
      "expreq                4870 non-null float32\n",
      "comreq                4870 non-null float32\n",
      "educreq               4870 non-null float32\n",
      "compreq               4870 non-null float32\n",
      "orgreq                4870 non-null float32\n",
      "manuf                 4870 non-null float32\n",
      "transcom              4870 non-null float32\n",
      "bankreal              4870 non-null float32\n",
      "trade                 4870 non-null float32\n",
      "busservice            4870 non-null float32\n",
      "othservice            4870 non-null float32\n",
      "missind               4870 non-null float32\n",
      "ownership             4870 non-null object\n",
      "dtypes: float32(42), int16(1), int8(12), object(10)\n",
      "memory usage: 1.3+ MB\n"
     ]
    }
   ],
   "source": [
    "data.head()\n",
    "data.info()"
   ]
  },
  {
   "cell_type": "code",
   "execution_count": 6,
   "metadata": {},
   "outputs": [
    {
     "name": "stdout",
     "output_type": "stream",
     "text": [
      "2435\n",
      "2435\n",
      "4870\n"
     ]
    }
   ],
   "source": [
    "black_entries = len(data[data['race']=='b'])\n",
    "white_entries = len(data[data['race']=='w'])\n",
    "total_entries = black_entries + white_entries\n",
    "\n",
    "print(black_entries)\n",
    "print(white_entries)\n",
    "print(total_entries)\n"
   ]
  },
  {
   "cell_type": "code",
   "execution_count": 7,
   "metadata": {},
   "outputs": [
    {
     "data": {
      "text/plain": [
       "0.59948979591836737"
      ]
     },
     "execution_count": 7,
     "metadata": {},
     "output_type": "execute_result"
    }
   ],
   "source": [
    "white = sum(data[data.race=='w'].call) / len(data)\n",
    "black = sum(data[data.race=='b'].call) / len(data)\n",
    "w_and_b = sum(data.call) / len(data)\n",
    "\n",
    "# Callback percentage for white sounding names\n",
    "white/w_and_b"
   ]
  },
  {
   "cell_type": "code",
   "execution_count": 8,
   "metadata": {},
   "outputs": [
    {
     "data": {
      "text/plain": [
       "0.40051020408163268"
      ]
     },
     "execution_count": 8,
     "metadata": {},
     "output_type": "execute_result"
    }
   ],
   "source": [
    "# Callback percentage for black sounding names\n",
    "black/w_and_b"
   ]
  },
  {
   "cell_type": "code",
   "execution_count": 9,
   "metadata": {},
   "outputs": [
    {
     "data": {
      "text/plain": [
       "0.19897959183673469"
      ]
     },
     "execution_count": 9,
     "metadata": {},
     "output_type": "execute_result"
    }
   ],
   "source": [
    "## Difference between the callback percentage for white and black sounding names\n",
    "white/w_and_b - black/w_and_b"
   ]
  },
  {
   "cell_type": "markdown",
   "metadata": {},
   "source": [
    "Q1. What test is appropriate for this problem? Does CLT apply?\n",
    "\n",
    "To use the normal model, we must meet some assumptions and conditions. The Central Limit Theorem assumes the following:\n",
    "\n",
    "1.  Randomization Condition: The data must be sampled randomly. \n",
    "    * Independence Assumption: The sample values must be independent of each other. This means that the occurrence of one event has no influence on the next event. Usually, if we know that people or items were selected randomly we can assume that the independence assumption is met.\n",
    "    \n",
    "The first condition is met since the 'b' and 'w' values in race are assigned randomly to the resumes when presented to the employer.\n",
    "\n",
    "2. 10% Condition: When the sample is drawn without replacement (usually the case), the sample size, n, should be no more than 10% of the population.\n",
    "    * Sample Size Assumption: The sample size must be sufficiently large. Although the Central Limit Theorem tells us that we can use a Normal model to think about the behavior of sample means when the sample size is large enough, it does not tell us how large that should be. If the population is very skewed, you will need a pretty large sample size to use the CLT, however if the population is unimodal and symmetric, even small samples are acceptable. So think about your sample size in terms of what you know about the population and decide whether the sample is large enough. In general a sample size of 30 is considered sufficient if the sample is unimodal (and meets the 10% condition).\n",
    "\n",
    "The sample size for both the black (2435) and white (2435) groups are large enough. \n",
    "\n",
    "Both conditions are met, therefore, we can use the CLT for our analysis. The appropriate statistical test to use when comparing two Population proportions with independent samples is a z-test. \n"
   ]
  },
  {
   "cell_type": "markdown",
   "metadata": {},
   "source": [
    "Q2. What are the null and alternate hypotheses?\n",
    "\n",
    "H0: There is no difference between callbacks for white and black sounding names\n",
    "\n",
    "Ha: There is a difference between callbacks for white and black sounding names"
   ]
  },
  {
   "cell_type": "markdown",
   "metadata": {},
   "source": [
    "Q3. Compute margin of error, confidence interval, and p-value."
   ]
  },
  {
   "cell_type": "code",
   "execution_count": 10,
   "metadata": {},
   "outputs": [
    {
     "name": "stdout",
     "output_type": "stream",
     "text": [
      "p1 = 0.064476386037\n",
      "p2 = 0.0965092402464\n",
      "n1 = 2435\n",
      "n2 = 2435\n",
      "p = 0.0804928131417\n"
     ]
    }
   ],
   "source": [
    "# Separate resumes by race: b and w\n",
    "b_data = data[data.race=='b']\n",
    "w_data = data[data.race=='w']\n",
    "\n",
    "b_callback = sum(data[data.race=='b'].call)\n",
    "w_callback = sum(data[data.race=='w'].call)\n",
    "\n",
    "# Sample proportions of callbacks per race (b or w)\n",
    "p1 = b_callback/len(b_data)\n",
    "p2 = w_callback/len(w_data)\n",
    "\n",
    "print('p1 = ' + str(p1))\n",
    "print('p2 = ' + str(p2))\n",
    "\n",
    "# Number of samples in each race (b or w)\n",
    "n1 = len(b_data)\n",
    "n2 = len(w_data)\n",
    "\n",
    "print('n1 = ' + str(n1))\n",
    "print('n2 = ' + str(n2))\n",
    "\n",
    "# Callback percentage for both black and white names\n",
    "p = (b_callback + w_callback)/(len(b_data)+len(w_data))\n",
    "print('p = ' + str(p))"
   ]
  },
  {
   "cell_type": "code",
   "execution_count": 25,
   "metadata": {},
   "outputs": [
    {
     "name": "stdout",
     "output_type": "stream",
     "text": [
      " z-statistic = -4.108412152434346 \n",
      " p-value = 3.983886837577444e-05\n"
     ]
    }
   ],
   "source": [
    "def ztest_proportion_two_samples(x1, n1, x2, n2, one_sided=False):\n",
    "    p1 = x1/n1\n",
    "    p2 = x2/n2    \n",
    "\n",
    "    p = (x1 + x2)/(n1 + n2)\n",
    "    se = p*(1 - p)*((1/n1) + (1/n2))\n",
    "    se = (se)**(1/2)\n",
    "    \n",
    "    z = (p1 - p2)/se\n",
    "    p = 1 - stats.norm.cdf(abs(z))\n",
    "    p *= 2 - one_sided # if not one_sided: p *= 2\n",
    "    return z, p\n",
    "\n",
    "z, p = ztest_proportion_two_samples(b_callback, len(b_data), w_callback, len(w_data), one_sided=False)\n",
    "print(' z-statistic = {z} \\n p-value = {p}'.format(z=z,p=p))"
   ]
  },
  {
   "cell_type": "code",
   "execution_count": 24,
   "metadata": {},
   "outputs": [
    {
     "name": "stdout",
     "output_type": "stream",
     "text": [
      " 95% Confidence Interval = ( 0.02% , 0.05%)\n"
     ]
    }
   ],
   "source": [
    "def compute_standard_error_prop_two_samples(x1, n1, x2, n2, alpha=0.05):\n",
    "    p1 = x1/n1\n",
    "    p2 = x2/n2    \n",
    "    se = p1*(1 - p1)/n1 + p2*(1 - p2)/n2\n",
    "    return (se)**(1/2)\n",
    "    \n",
    "def zconf_interval_two_samples(x1, n1, x2, n2, alpha=0.05):\n",
    "    p1 = x1/n1\n",
    "    p2 = x2/n2    \n",
    "    se = compute_standard_error_prop_two_samples(x1, n1, x2, n2)\n",
    "    z_critical = stats.norm.ppf(1 - 0.5*alpha)\n",
    "    return p2 - p1 - z_critical*se, p2 - p1 + z_critical*se\n",
    "\n",
    "ci_low,ci_upp = zconf_interval_two_samples(b_callback, len(b_data), w_callback, len(w_data), alpha=0.05)\n",
    "\n",
    "print(' 95% Confidence Interval = ( {0:.2f}% , {1:.2f}%)' .format(ci_low, ci_upp))\n"
   ]
  },
  {
   "cell_type": "code",
   "execution_count": 17,
   "metadata": {},
   "outputs": [
    {
     "name": "stdout",
     "output_type": "stream",
     "text": [
      "Z_critical value = 1.64485362695\n",
      "Margin of Error = 0.0115494277534\n"
     ]
    }
   ],
   "source": [
    "import math\n",
    "\n",
    "# z-critical value at 95%\n",
    "z_critical = stats.norm.ppf(0.95)   \n",
    "\n",
    "# Point estimate of proportion\n",
    "p = white/w_and_b               \n",
    "\n",
    "# Sample size\n",
    "n = 4870                            \n",
    "\n",
    "margin_of_error = z_critical * math.sqrt((p*(1-p))/n)\n",
    "print('Z_critical value = ' + str(z_critical))\n",
    "print('Margin of Error = ' + str(margin_of_error))"
   ]
  },
  {
   "cell_type": "code",
   "execution_count": 20,
   "metadata": {},
   "outputs": [
    {
     "name": "stdout",
     "output_type": "stream",
     "text": [
      "Z_critical value = 1.64485362695\n",
      "Margin of Error = 0.0115494277534\n"
     ]
    }
   ],
   "source": [
    "import math\n",
    "\n",
    "# z-critical value at 95%\n",
    "z_critical = stats.norm.ppf(0.95)   \n",
    "\n",
    "# Point estimate of proportion\n",
    "p = black/w_and_b               \n",
    "\n",
    "# Sample size\n",
    "n = 4870                            \n",
    "\n",
    "margin_of_error = z_critical * math.sqrt((p*(1-p))/n)\n",
    "print('Z_critical value = ' + str(z_critical))\n",
    "print('Margin of Error = ' + str(margin_of_error))"
   ]
  },
  {
   "cell_type": "markdown",
   "metadata": {},
   "source": [
    "Q4. Write a story describing the statistical significance in the context or the original problem.\n",
    "\n",
    "The test result shows the test statistic \"z\" is equal to -4.108. This test statistic tells us how much the sample mean deviates from the null hypothesis. The p-value (0.0000398) is less than the significance level of 0.05,  therefore, we reject the null hypothesis. There is a significant difference between callbacks for 'white' and 'black' sounding names.\n",
    "\n",
    "Callback percentage for 'white' sounding names = 0.60\n",
    "\n",
    "Callback percentage for 'black' sounding names = 0.40\n",
    "\n",
    "\n",
    "From our sample, we can conclude with 95% confidence that,\n",
    "'white' sounding names get called back 58.8 - 61.2% of the time or 60.0 ± 1.2% of the time and 'black' sounding names get called back 38.8 - 41.2% of the time or 40.0 ± 1.2% of the time."
   ]
  },
  {
   "cell_type": "markdown",
   "metadata": {},
   "source": [
    "Q5. Does your analysis mean that race/name is the most important factor in callback success? Why or why not? If not, how would you amend your analysis?\n",
    "\n",
    "Our analysis does not tell us that the race/name is the most important factor in callback success. Our analysis tells us that resumes with Caucasian sounding names were more likely to get callbacks compared to resumes with African American sounding names. To answer the question of what is the most important factor in resume callback success, we should also measure the number of years of job related experience, highest level of education, specific skill sets, etc...\n"
   ]
  }
 ],
 "metadata": {
  "kernelspec": {
   "display_name": "Python 3",
   "language": "python",
   "name": "python3"
  },
  "language_info": {
   "codemirror_mode": {
    "name": "ipython",
    "version": 3
   },
   "file_extension": ".py",
   "mimetype": "text/x-python",
   "name": "python",
   "nbconvert_exporter": "python",
   "pygments_lexer": "ipython3",
   "version": "3.6.1"
  }
 },
 "nbformat": 4,
 "nbformat_minor": 1
}
